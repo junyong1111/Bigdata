{
  "nbformat": 4,
  "nbformat_minor": 0,
  "metadata": {
    "colab": {
      "provenance": [],
      "collapsed_sections": [
        "wyLfO0p9Ot7N",
        "TDi5CxcgP0n2",
        "GZp5PdxqTcys",
        "N9qquXIdVL6d"
      ]
    },
    "kernelspec": {
      "name": "python3",
      "display_name": "Python 3"
    },
    "language_info": {
      "name": "python"
    }
  },
  "cells": [
    {
      "cell_type": "markdown",
      "source": [
        "# 검정 방법\n",
        "1. 정규성을 따른다 : 단일표본 T 테스트\n",
        "2. 정규성을 따르지 않는다 : 윌콕슨 부호순위 검정"
      ],
      "metadata": {
        "id": "wyLfO0p9Ot7N"
      }
    },
    {
      "cell_type": "markdown",
      "source": [
        "## 가설검정 순서(중요)\n",
        "1. 가설설정(귀무, 대립)\n",
        "2. 유의수준 설정, 정규성 검정\n",
        "3. 검정통계량 계산\n",
        "4. P-value 계산\n",
        "5. 귀무가설 채택/기각 여부 결정"
      ],
      "metadata": {
        "id": "8c2MuiJ1O3ww"
      }
    },
    {
      "cell_type": "markdown",
      "source": [
        "# 1번 문제.\n",
        "mtcars 데이터의 mpg열의 평균이 20과 같다고 할 수 있는지?\n",
        "- 귀무가설(H0) : U0 = 20\n",
        "- 대립가설(H1) : U0 != 20\n",
        "- 유의수준(Alpha) = 0.05"
      ],
      "metadata": {
        "id": "TDi5CxcgP0n2"
      }
    },
    {
      "cell_type": "code",
      "source": [
        "import pandas as pd\n",
        "import numpy as np\n",
        "from scipy.stats import stats\n",
        "from scipy.stats import shapiro\n",
        "\n",
        "df = pd.read_csv('/content/mtcars.csv')\n",
        "#-- 1. 정규성 검정\n",
        "# h0 : 정규분포를 따른다.\n",
        "# h1 : 정규분포를 따르지 않는다.\n",
        "\n",
        "U0= 20\n",
        "alpha = 0.05\n",
        "statics, p_value = shapiro(df['mpg'])\n",
        "if p_value > alpha :\n",
        "  print(\"정규분포를 따르며 T검정 진행.\")\n",
        "else :\n",
        "  print(\"정규분포를 따르지 않는다 윌콕슨 부호순위 검정 진행.\")"
      ],
      "metadata": {
        "colab": {
          "base_uri": "https://localhost:8080/"
        },
        "id": "wI8IfElfO2TS",
        "outputId": "383e5244-b11f-449a-df98-9e9787c0ba5e"
      },
      "execution_count": null,
      "outputs": [
        {
          "output_type": "stream",
          "name": "stdout",
          "text": [
            "정규분포를 따르며 T검정 진행.\n"
          ]
        }
      ]
    },
    {
      "cell_type": "code",
      "source": [
        "#-- 2. 검정통계량, P_value 계산\n",
        "\n",
        "statics, p_value = scipy.stats.ttest_1samp(df['mpg'], popmean = U0, alternative='two-sided')\n",
        "print(statics.round(4))\n",
        "print(p_value.round(4))\n",
        "\n",
        "#-- 2-1. 윌콕슨을 사용하는 경우\n",
        "# statics, p_value = scipy.stats.wilcoxon(df['mpg']-U0, alternative='two-sided')\n",
        "# print(statics.round(4))\n",
        "# print(p_value.round(4))"
      ],
      "metadata": {
        "colab": {
          "base_uri": "https://localhost:8080/"
        },
        "id": "_goA-3lYRfLu",
        "outputId": "d0942622-991e-42be-e4d6-4ebf7acc1e38"
      },
      "execution_count": null,
      "outputs": [
        {
          "output_type": "stream",
          "name": "stdout",
          "text": [
            "0.0851\n",
            "0.9328\n"
          ]
        }
      ]
    },
    {
      "cell_type": "code",
      "source": [
        "#-- 3. 귀무가설 채택/기각 결정\n",
        "if p_value > alpha:\n",
        "  print(\"채택\")\n",
        "  print(\"mpg 평균이 20이라고 할 수 있음\")\n",
        "  print(df['mpg'].mean())\n",
        "else :\n",
        "  print(\"기각\")\n",
        "  print(\"mpg 평균이 20이라고 할 수 없음\")\n",
        "  print(df['mpg'].mean())"
      ],
      "metadata": {
        "colab": {
          "base_uri": "https://localhost:8080/"
        },
        "id": "YJxkkDSCS8aU",
        "outputId": "6ac72a1b-a087-4eac-a18e-ccdd4a35902a"
      },
      "execution_count": null,
      "outputs": [
        {
          "output_type": "stream",
          "name": "stdout",
          "text": [
            "채택\n",
            "mpg 평균이 20이라고 할 수 있음\n",
            "20.090625000000003\n"
          ]
        }
      ]
    },
    {
      "cell_type": "markdown",
      "source": [
        "# 문제 2. mpg열의 평균이 17보다 크다고 할 수 있는지 검정하시오 (유의수준 0.05)\n"
      ],
      "metadata": {
        "id": "GZp5PdxqTcys"
      }
    },
    {
      "cell_type": "code",
      "source": [
        "H0 = \"mpg 평균이 17보다 작거나 같다\"\n",
        "H1 = \"mpg 평균이 17보다 크다\"\n",
        "U0 = 17\n",
        "alpha = 0.05"
      ],
      "metadata": {
        "id": "c8BfvoWsTmYt"
      },
      "execution_count": null,
      "outputs": []
    },
    {
      "cell_type": "code",
      "source": [
        "#-- 정규성 검정\n",
        "static, pvalue = shapiro(df['mpg'])\n",
        "if pvalue > alpha:\n",
        "  print('정규성 채택 t_test')\n",
        "else:\n",
        "  print('정규성 기각 윌콕슨')"
      ],
      "metadata": {
        "colab": {
          "base_uri": "https://localhost:8080/"
        },
        "id": "hub7thoiTvVf",
        "outputId": "c8e1f9d7-19ed-4d4d-a604-0e6452868cac"
      },
      "execution_count": null,
      "outputs": [
        {
          "output_type": "stream",
          "name": "stdout",
          "text": [
            "정규성 채택 t_test\n"
          ]
        }
      ]
    },
    {
      "cell_type": "code",
      "source": [
        "#-- 통계량 계산(T검정)\n",
        "statics, pvalue = scipy.stats.ttest_1samp(df['mpg'], popmean = U0, alternative = 'greater')\n",
        "print(statics, pvalue)\n",
        "\n",
        "#-- 통계량 계산(윌콕슨)\n",
        "# statics, pvalue = scipy.stats.wilcoxon(df['mpg']-U0, alternative = 'greater')"
      ],
      "metadata": {
        "colab": {
          "base_uri": "https://localhost:8080/"
        },
        "id": "GrM4WKwFUA5o",
        "outputId": "1fa2ed3e-3287-40a8-c5c3-6c7812b516dc"
      },
      "execution_count": null,
      "outputs": [
        {
          "output_type": "stream",
          "name": "stdout",
          "text": [
            "2.900840527201366 0.003394155007833913\n"
          ]
        }
      ]
    },
    {
      "cell_type": "code",
      "source": [
        "#-- 귀무가설 채택/기각 결정\n",
        "if pvalue  > alpha :\n",
        "  print('채택')\n",
        "  print(H0)\n",
        "else :\n",
        "  print('기각')\n",
        "  print(H1)"
      ],
      "metadata": {
        "colab": {
          "base_uri": "https://localhost:8080/"
        },
        "id": "fMWLb-kYUUlH",
        "outputId": "f4378d9c-5d72-4c2f-f0fc-3adb5e06b616"
      },
      "execution_count": null,
      "outputs": [
        {
          "output_type": "stream",
          "name": "stdout",
          "text": [
            "기각\n",
            "mpg 평균이 17보다 크다\n"
          ]
        }
      ]
    },
    {
      "cell_type": "markdown",
      "source": [
        "# 문제 3. mpg열의 평균이 17보다 작다고 할 수 있는지 검정하시오 (유의수준 0.05)\n"
      ],
      "metadata": {
        "id": "N9qquXIdVL6d"
      }
    },
    {
      "cell_type": "code",
      "source": [
        "import pandas as pd\n",
        "import numpy as np\n",
        "from scipy.stats import stats\n",
        "from scipy.stats import shapiro\n",
        "\n",
        "df = pd.read_csv('/content/mtcars.csv')"
      ],
      "metadata": {
        "id": "DkUhdlWfVPj9"
      },
      "execution_count": null,
      "outputs": []
    },
    {
      "cell_type": "code",
      "source": [
        "H0 = 'mpg 열의 평균이 17보다 크거나 같다'\n",
        "H1 = 'mpg 열의 평균이 17보다 작다'\n",
        "alpha = 0.05\n",
        "U0 = 17"
      ],
      "metadata": {
        "id": "NhtgmPPAVenX"
      },
      "execution_count": null,
      "outputs": []
    },
    {
      "cell_type": "code",
      "source": [
        "#-- 1. 정규성 검정\n",
        "statics, pvalue = shapiro(df['mpg'])\n",
        "if pvalue > alpha :\n",
        "  print('정규성 채택')\n",
        "else :\n",
        "  print('정규서 기각')"
      ],
      "metadata": {
        "colab": {
          "base_uri": "https://localhost:8080/"
        },
        "id": "D5cDf3pxVpHI",
        "outputId": "106a9265-7287-4a8d-f6be-81f78119c135"
      },
      "execution_count": null,
      "outputs": [
        {
          "output_type": "stream",
          "name": "stdout",
          "text": [
            "정규성 채택\n"
          ]
        }
      ]
    },
    {
      "cell_type": "code",
      "source": [
        "#-- 2. 통계량 계산 (T검정)\n",
        "statics, pvalue = scipy.stats.ttest_1samp(df['mpg'], popmean = U0, alternative = 'less')\n",
        "print(statics.round(4), pvalue.round(4))\n",
        "\n",
        "#-- 2-1. 통계량 계산 (윌콕슨)\n",
        "wil_s, wil_p = scipy.stats.wilcoxon(df['mpg'] - U0, alternative = 'less')\n",
        "print(wil_s.round(4), wil_p.round(4))"
      ],
      "metadata": {
        "colab": {
          "base_uri": "https://localhost:8080/"
        },
        "id": "2QSLnh1ZV0MB",
        "outputId": "c0de7865-3bf6-4e0d-99ed-a3212c7288ee"
      },
      "execution_count": null,
      "outputs": [
        {
          "output_type": "stream",
          "name": "stdout",
          "text": [
            "2.9008 0.9966\n",
            "395.5 0.9938\n"
          ]
        }
      ]
    },
    {
      "cell_type": "code",
      "source": [
        "#-- 3. 귀무가설 채태/기각 결정\n",
        "if pvalue > alpha:\n",
        "  print('채택')\n",
        "  print(H0)\n",
        "else:\n",
        "  print('기각')\n",
        "  print(H1)"
      ],
      "metadata": {
        "colab": {
          "base_uri": "https://localhost:8080/"
        },
        "id": "FQwYJw3ZWUpG",
        "outputId": "5bce62cc-162d-493e-91fa-097c03148691"
      },
      "execution_count": null,
      "outputs": [
        {
          "output_type": "stream",
          "name": "stdout",
          "text": [
            "채택\n",
            "mpg 열의 평균이 17보다 크거나 같다\n"
          ]
        }
      ]
    }
  ]
}