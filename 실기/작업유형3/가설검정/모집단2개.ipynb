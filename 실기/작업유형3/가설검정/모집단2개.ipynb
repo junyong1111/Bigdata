{
  "nbformat": 4,
  "nbformat_minor": 0,
  "metadata": {
    "colab": {
      "provenance": []
    },
    "kernelspec": {
      "name": "python3",
      "display_name": "Python 3"
    },
    "language_info": {
      "name": "python"
    }
  },
  "cells": [
    {
      "cell_type": "markdown",
      "source": [
        "# 검정 방법\n",
        "- 동일 객체의 전 후 평균 비교\n",
        "1. 정규성을 따른다 : 대응표본(쌍체) T 테스트 -> 동일 객체의 전, 후(paired_ttest)\n",
        "2. 정규성을 따르지 않는다 : 윌콕슨 부호순위 검정(wilcoxon)\n",
        "- 독립표본 A집단 VS B집단\n",
        "1. 정규성을 따른다. : 독립표본 T테스트(2sample_ttest)\n",
        "2. 하나라도 정규성을 따르지 않는다 : 윌콕슨 순위합 검정(ranksums)"
      ],
      "metadata": {
        "id": "wyLfO0p9Ot7N"
      }
    },
    {
      "cell_type": "markdown",
      "source": [
        "## 가설검정 순서(중요)\n",
        "- 쌍체\n",
        "1. 가설설정(귀무, 대립)\n",
        "2. 유의수준 설정, 정규성 검정(차이값에 대한 정규성!!)\n",
        "3. 검정통계량 계산\n",
        "4. P-value 계산\n",
        "5. 귀무가설 채택/기각 여부 결정\n",
        "\n",
        "- 독립표본\n",
        "1. 가설설정(귀무, 대립)\n",
        "2. 유의수준 설정, 정규성 검정(두 집단에 대한 정규성!!!!)\n",
        "3. 검정통계량 계산,P-value 계산 (등분산 여부를 확인해야함!!!)\n",
        "5. 귀무가설 채택/기각 여부 결정"
      ],
      "metadata": {
        "id": "8c2MuiJ1O3ww"
      }
    },
    {
      "cell_type": "markdown",
      "source": [
        "# 1번 문제. 대응표본 쌍체 T검정\n",
        "혈압약을 먹기전, 후의 차이가 있는지 쌍체 T검정을 실시 하시오.\n",
        "before : 혈압약을 먹기 전\n",
        "after :  혈압약을 먹은 후\n",
        "- 귀무가설(H0) : after-before = 0\n",
        "- 대립가설(H1) : after-before != 0\n",
        "- 유의수준(Alpha) = 0.05"
      ],
      "metadata": {
        "id": "TDi5CxcgP0n2"
      }
    },
    {
      "cell_type": "code",
      "source": [
        "import pandas as pd\n",
        "import numpy as np\n",
        "from scipy.stats import stats\n",
        "from scipy.stats import shapiro"
      ],
      "metadata": {
        "id": "wI8IfElfO2TS"
      },
      "execution_count": null,
      "outputs": []
    },
    {
      "cell_type": "code",
      "source": [
        "df = pd.DataFrame( {\n",
        "'before': [120, 135, 122, 124, 135, 122, 145, 160, 155, 142, 144, 135, 167],\n",
        "'after' : [110, 132, 123, 119, 123, 115, 140, 162, 142, 138, 135, 142, 160] })\n",
        "print(df.head(3))"
      ],
      "metadata": {
        "colab": {
          "base_uri": "https://localhost:8080/"
        },
        "id": "_goA-3lYRfLu",
        "outputId": "7e5f739f-8244-4758-cb60-c53922a62ef4"
      },
      "execution_count": null,
      "outputs": [
        {
          "output_type": "stream",
          "name": "stdout",
          "text": [
            "   before  after\n",
            "0     120    110\n",
            "1     135    132\n",
            "2     122    123\n"
          ]
        }
      ]
    },
    {
      "cell_type": "code",
      "source": [
        "H0 = \"약의 효과가 없다(변화가 없다)\"\n",
        "H1 = \"약의 효과가 있다(변화가 있다)\" #-- 현재 문제에서는 변화에 대해서만 물어보므로 양측 검정\n",
        "alpha = 0.05"
      ],
      "metadata": {
        "id": "kl3oNvljaNKS"
      },
      "execution_count": null,
      "outputs": []
    },
    {
      "cell_type": "code",
      "source": [
        "#-- 1. 정규성 검정(쌍체의 경유 두 집단의 차이에 대한 정규성)\n",
        "statics, pvalue = shapiro(df['after'] - df['before'])\n",
        "\n",
        "if pvalue > alpha:\n",
        "  print('정규성 채택')\n",
        "else:\n",
        "  print('정규성 기각')"
      ],
      "metadata": {
        "colab": {
          "base_uri": "https://localhost:8080/"
        },
        "id": "k6jc2JESZ4im",
        "outputId": "636532fd-cda4-419f-a4a9-bd9dcd699c30"
      },
      "execution_count": null,
      "outputs": [
        {
          "output_type": "stream",
          "name": "stdout",
          "text": [
            "정규성 채택\n"
          ]
        }
      ]
    },
    {
      "cell_type": "code",
      "source": [
        "import scipy\n",
        "#-- 2. 통계량 계산\n",
        "statics, pvalue = scipy.stats.ttest_rel(df['after'], df['before'], alternative = 'two-sided')\n",
        "print(statics.round(4), pvalue.round(4))\n",
        "\n",
        "#-- 2-1 윌콕슨 부호()\n",
        "wil_s, wil_p = scipy.stats.wilcoxon(df['after']-df['before'], alternative = 'two-sided')\n",
        "print(wil_s.round(4), wil_p.round(4))"
      ],
      "metadata": {
        "colab": {
          "base_uri": "https://localhost:8080/"
        },
        "id": "kDGc1AQaatia",
        "outputId": "d197db1c-9353-4ebd-db82-42832e1ce6ce"
      },
      "execution_count": null,
      "outputs": [
        {
          "output_type": "stream",
          "name": "stdout",
          "text": [
            "-3.1382 0.0086\n",
            "11.0 0.0134\n"
          ]
        }
      ]
    },
    {
      "cell_type": "code",
      "source": [
        "#-- 3. 귀무가설 채택/기각 결정\n",
        "\n",
        "if pvalue > alpha :\n",
        "  print('귀무 채택')\n",
        "  print(H0)\n",
        "else :\n",
        "  print('귀무 기각')\n",
        "  print(H1)"
      ],
      "metadata": {
        "colab": {
          "base_uri": "https://localhost:8080/"
        },
        "id": "JcwYQBWubx7L",
        "outputId": "cefe823c-2919-4553-e763-4a7771520bb0"
      },
      "execution_count": null,
      "outputs": [
        {
          "output_type": "stream",
          "name": "stdout",
          "text": [
            "귀무 기각\n",
            "약의 효과가 있다(변화가 있다)\n"
          ]
        }
      ]
    },
    {
      "cell_type": "markdown",
      "source": [
        "# 1-2번 문제. 대응표본 쌍체 T검정\n",
        "혈압약을 먹기 후 혈압이 감소 했는지\n",
        "before : 혈압약을 먹기 전\n",
        "after :  혈압약을 먹은 후\n",
        "- 귀무가설(H0) : after-before >= 0\n",
        "- 대립가설(H1) : after-before < 0\n",
        "- 유의수준(Alpha) = 0.05"
      ],
      "metadata": {
        "id": "S2rRLj2dckv4"
      }
    },
    {
      "cell_type": "code",
      "source": [
        "H0 = \"약을 먹어도 혈압이 떨어지지 않는다(효과 없음)\"\n",
        "H1 = \"약을 먹으면 혈압이 감소한다 (효과 있음)\"\n",
        "alpha = 0.05\n",
        "\n",
        "df = pd.DataFrame( {\n",
        "'before': [120, 135, 122, 124, 135, 122, 145, 160, 155, 142, 144, 135, 167],\n",
        "'after' : [110, 132, 123, 119, 123, 115, 140, 162, 142, 138, 135, 142, 160] })\n",
        "print(df.head(3))"
      ],
      "metadata": {
        "colab": {
          "base_uri": "https://localhost:8080/"
        },
        "id": "-2khyLzicz-x",
        "outputId": "50db4670-c49e-45fa-9178-855427dcf9e1"
      },
      "execution_count": null,
      "outputs": [
        {
          "output_type": "stream",
          "name": "stdout",
          "text": [
            "   before  after\n",
            "0     120    110\n",
            "1     135    132\n",
            "2     122    123\n"
          ]
        }
      ]
    },
    {
      "cell_type": "code",
      "source": [
        "# 1. 정규성 검정(차이)\n",
        "\n",
        "statics, p_value = shapiro(df['after']- df['before'])\n",
        "\n",
        "if p_value > alpha:\n",
        "  print('정규성 채택')\n",
        "  print('쌍체 T테스트')\n",
        "else:\n",
        "  print('정규성 기각')\n",
        "  print('윌콕슨 부호 검정')"
      ],
      "metadata": {
        "colab": {
          "base_uri": "https://localhost:8080/"
        },
        "id": "4gfxOhZad3AR",
        "outputId": "da829676-6e4b-4c3b-eaab-33f5c5a3008d"
      },
      "execution_count": null,
      "outputs": [
        {
          "output_type": "stream",
          "name": "stdout",
          "text": [
            "정규성 채택\n",
            "쌍체 T테스트\n"
          ]
        }
      ]
    },
    {
      "cell_type": "code",
      "source": [
        "#-- 2. 쌍체 T 테스트\n",
        "statics, pval = scipy.stats.ttest_rel(df['after'], df['before'], alternative = 'less')\n",
        "print(statics.round(4), pval.round(4))\n",
        "\n",
        "#-- 2-1 윌콕슨 테스트\n",
        "wil_s, wil_p = scipy.stats.wilcoxon(df['after'] - df['before'], alternative = 'less')\n",
        "print(wil_s.round(4), wil_p.round(4))"
      ],
      "metadata": {
        "colab": {
          "base_uri": "https://localhost:8080/"
        },
        "id": "NlEPbEHbd9hK",
        "outputId": "7ceba700-d04a-432a-ce4c-b948e8f3824d"
      },
      "execution_count": null,
      "outputs": [
        {
          "output_type": "stream",
          "name": "stdout",
          "text": [
            "-3.1382 0.0043\n",
            "11.0 0.0067\n"
          ]
        }
      ]
    },
    {
      "cell_type": "code",
      "source": [
        "#-- 귀무가설 채택/기각 결정\n",
        "if pval > alpha:\n",
        "  print('귀무가설 채택')\n",
        "  print(H0)\n",
        "else:\n",
        "  print(\"귀무가설 기각\")\n",
        "  print(H1)"
      ],
      "metadata": {
        "colab": {
          "base_uri": "https://localhost:8080/"
        },
        "id": "XGzKjXRNe8gN",
        "outputId": "5cbdb17e-891b-4481-b613-b2d6ffdb5752"
      },
      "execution_count": null,
      "outputs": [
        {
          "output_type": "stream",
          "name": "stdout",
          "text": [
            "귀무가설 기각\n",
            "약을 먹으면 혈압이 감소한다 (효과 있음)\n"
          ]
        }
      ]
    },
    {
      "cell_type": "markdown",
      "source": [
        "# 문제 2. 독립표본 T검정 (2sample_ttest)\n",
        "A그룹과 B그룹의 혈압데이터\n",
        "두 그룹의 혈압 평균이 다르다고 할 수 있는지 독립검정 T검정 유의수준 0.05\n",
        "- 귀무가설 : A = B\n",
        "- 대립가설 : A != B\n"
      ],
      "metadata": {
        "id": "GZp5PdxqTcys"
      }
    },
    {
      "cell_type": "code",
      "source": [
        "df = pd.DataFrame( {\n",
        "    'A': [120, 135, 122, 124, 135, 122, 145, 160, 155, 142, 144, 135, 167],\n",
        "    'B' : [110, 132, 123, 119, 123, 115, 140, 162, 142, 138, 135, 142, 160] })\n",
        "print(df.head(3))"
      ],
      "metadata": {
        "colab": {
          "base_uri": "https://localhost:8080/"
        },
        "id": "VKBtWgXlfyDk",
        "outputId": "bd450b41-bde5-4b73-f47d-fb9847e1d581"
      },
      "execution_count": null,
      "outputs": [
        {
          "output_type": "stream",
          "name": "stdout",
          "text": [
            "     A    B\n",
            "0  120  110\n",
            "1  135  132\n",
            "2  122  123\n"
          ]
        }
      ]
    },
    {
      "cell_type": "code",
      "source": [
        "H0 = \"A그룹과 B그룹의 혈압 평균은 같다\"\n",
        "H1 = \"A그룹과 B그룹의 혈압 평균은 같지 않다.\"\n",
        "alpha = 0.05"
      ],
      "metadata": {
        "id": "c8BfvoWsTmYt"
      },
      "execution_count": null,
      "outputs": []
    },
    {
      "cell_type": "code",
      "source": [
        "#-- 정규성 검정(두 집단 모두 실행하며 1개의 집단이라도 정규성을 따르지 않는다면 윌콕슨 순위 합으로 해야함)\n",
        "static, pvalue = shapiro(df['A'])\n",
        "if pvalue > alpha:\n",
        "  print('정규성 채택 t_test')\n",
        "else:\n",
        "  print('정규성 기각 윌콕슨 순위함')\n",
        "\n",
        "  static, pvalue = shapiro(df['B'])\n",
        "if pvalue > alpha:\n",
        "  print('정규성 채택 t_test')\n",
        "else:\n",
        "  print('정규성 기각 윌콕슨 순위함')"
      ],
      "metadata": {
        "colab": {
          "base_uri": "https://localhost:8080/"
        },
        "id": "hub7thoiTvVf",
        "outputId": "c3150e89-8ca9-4554-8bab-a1a9751efbb0"
      },
      "execution_count": null,
      "outputs": [
        {
          "output_type": "stream",
          "name": "stdout",
          "text": [
            "정규성 채택 t_test\n",
            "정규성 채택 t_test\n"
          ]
        }
      ]
    },
    {
      "cell_type": "code",
      "source": [
        "#-- 등분산성 검정\n",
        "statics, pvalue = scipy.stats.bartlett(df['A'], df['B'])\n",
        "if pvalue > alpha:\n",
        "  print('등분산성 채택 옵션을 True')\n",
        "else:\n",
        "  print('등분산성 기각 옵션을 False')"
      ],
      "metadata": {
        "colab": {
          "base_uri": "https://localhost:8080/"
        },
        "id": "TRrbQpoNgMem",
        "outputId": "57842a76-ee84-4809-a732-f18b515180d1"
      },
      "execution_count": null,
      "outputs": [
        {
          "output_type": "stream",
          "name": "stdout",
          "text": [
            "등분산성 채택 옵션을 True\n"
          ]
        }
      ]
    },
    {
      "cell_type": "code",
      "source": [
        "#-- 통계량 계산(T검정)\n",
        "statics, pvalue = scipy.stats.ttest_ind(df['A'], df['B'],\n",
        "                                        equal_var = True,\n",
        "                                        alternative = 'two-sided'\n",
        "                                        )\n",
        "print(statics.round(4), pvalue.round(4))\n",
        "\n",
        "#-- 통계량 계산(윌콕슨)\n",
        "wil_s, wil_p = stats.ranksums(df['A'], df['B'], alternative = 'two-sided')\n",
        "print(wil_s.round(4), wil_p.round(4))"
      ],
      "metadata": {
        "colab": {
          "base_uri": "https://localhost:8080/"
        },
        "id": "GrM4WKwFUA5o",
        "outputId": "a7d93a71-41e2-4ee6-cafa-fe4726d06154"
      },
      "execution_count": null,
      "outputs": [
        {
          "output_type": "stream",
          "name": "stdout",
          "text": [
            "0.8192 0.4207\n",
            "0.8462 0.3975\n"
          ]
        },
        {
          "output_type": "stream",
          "name": "stderr",
          "text": [
            "<ipython-input-48-1a80f9691483>:9: DeprecationWarning: Please use `ranksums` from the `scipy.stats` namespace, the `scipy.stats.stats` namespace is deprecated.\n",
            "  wil_s, wil_p = stats.ranksums(df['A'], df['B'], alternative = 'two-sided')\n"
          ]
        }
      ]
    },
    {
      "cell_type": "code",
      "source": [
        "#-- 귀무가설 채택/기각 결정\n",
        "if pvalue  > alpha :\n",
        "  print('채택')\n",
        "  print(H0)\n",
        "else :\n",
        "  print('기각')\n",
        "  print(H1)"
      ],
      "metadata": {
        "colab": {
          "base_uri": "https://localhost:8080/"
        },
        "id": "fMWLb-kYUUlH",
        "outputId": "621ec121-f666-4d12-d36c-8863a651012b"
      },
      "execution_count": null,
      "outputs": [
        {
          "output_type": "stream",
          "name": "stdout",
          "text": [
            "채택\n",
            "A그룹과 B그룹의 혈압 평균은 같다\n"
          ]
        }
      ]
    },
    {
      "cell_type": "markdown",
      "source": [
        "# 문제 2-1. 독립표본 T검정 (2sample_ttest)\n",
        "A그룹과 B그룹의 혈압데이터\n",
        "A그룹의 혈압평균이 B그룹보다 크다고 할 수 있는지 독립표본 T검정을 실시\n",
        "- 귀무가설 : A <= B (A-B <=0)\n",
        "- 대립가설 : A > B (A-B > 0)\n"
      ],
      "metadata": {
        "id": "x2gvooGdhfsV"
      }
    },
    {
      "cell_type": "code",
      "source": [
        "# 데이터 만들기\n",
        "df = pd.DataFrame( {\n",
        "    'A': [120, 135, 122, 124, 135, 122, 145, 160, 155, 142, 144, 135, 167],\n",
        "    'B' : [110, 132, 123, 119, 123, 115, 140, 162, 142, 138, 135, 142, 160] })\n",
        "print(df.head(3))\n",
        "\n",
        "H0 = \"A그룹의 혈압 평균은 B그룹의 혈압 평균보다 크지 않다.\"\n",
        "H1 = \"A그룹의 혈압 평균은 B그룹의 혈압 평균보다 크다.\"\n",
        "alpha = 0.05"
      ],
      "metadata": {
        "colab": {
          "base_uri": "https://localhost:8080/"
        },
        "id": "_0to-Rbdhyd2",
        "outputId": "6ffe1b29-b9d2-4330-ed4e-2f7c93932751"
      },
      "execution_count": null,
      "outputs": [
        {
          "output_type": "stream",
          "name": "stdout",
          "text": [
            "     A    B\n",
            "0  120  110\n",
            "1  135  132\n",
            "2  122  123\n"
          ]
        }
      ]
    },
    {
      "cell_type": "code",
      "source": [
        "#-- 정규성 및 등분산성 검정(독립 표본은 2개의 표본 모두 진행)\n",
        "\n",
        "a_s, a_p = shapiro(df['A'])\n",
        "b_s, b_p = shapiro(df['B'])\n",
        "\n",
        "if a_p > alpha or b_p > alpha:\n",
        "  print('정규성 채택')\n",
        "else:\n",
        "  print('정규성 기각')\n",
        "\n",
        "e_s, e_p = scipy.stats.bartlett(df['A'], df['B'])\n",
        "if e_p > alpha:\n",
        "  print('옵션 True')\n",
        "else:\n",
        "  print('옵션 False')"
      ],
      "metadata": {
        "colab": {
          "base_uri": "https://localhost:8080/"
        },
        "id": "GN2qKpIsiB7-",
        "outputId": "511130a2-55a4-47eb-d16c-f89f8a7342e6"
      },
      "execution_count": null,
      "outputs": [
        {
          "output_type": "stream",
          "name": "stdout",
          "text": [
            "정규성 채택\n",
            "옵션 True\n"
          ]
        }
      ]
    },
    {
      "cell_type": "code",
      "source": [
        "#-- 통계량 계산\n",
        "\n",
        "statics, pvalue = scipy.stats.ttest_ind(df['A'], df['B'], alternative = 'greater')\n",
        "print(statics.round(4), pvalue.round(4))\n",
        "\n",
        "#-- 통계량 윌콕_ranksums\n",
        "\n",
        "wil_s, wil_p = scipy.stats.ranksums(df['A'], df['B'], alternative = 'greater')\n",
        "print(wil_s.round(4), wil_p.round(4))"
      ],
      "metadata": {
        "colab": {
          "base_uri": "https://localhost:8080/"
        },
        "id": "7RnyRyRMikNC",
        "outputId": "97c7cc3a-9f09-4229-a279-50f7b66cbb39"
      },
      "execution_count": null,
      "outputs": [
        {
          "output_type": "stream",
          "name": "stdout",
          "text": [
            "0.8192 0.2104\n",
            "0.8462 0.1987\n"
          ]
        }
      ]
    },
    {
      "cell_type": "code",
      "source": [
        "#-- 귀무 가설 채택/기각 결정\n",
        "\n",
        "if pvalue > alpha:\n",
        "  print(\"귀무가설 채택\")\n",
        "  print(H0)\n",
        "else:\n",
        "  print(\"귀무가설 기각 대립가설 채택\")\n",
        "  print(H1)"
      ],
      "metadata": {
        "colab": {
          "base_uri": "https://localhost:8080/"
        },
        "id": "RZnqMsB0jEnN",
        "outputId": "2963b119-c807-4044-8ba6-94e482fe14d2"
      },
      "execution_count": null,
      "outputs": [
        {
          "output_type": "stream",
          "name": "stdout",
          "text": [
            "귀무가설 채택\n",
            "A그룹의 혈압 평균은 B그룹의 혈압 평균보다 크지 않다.\n"
          ]
        }
      ]
    }
  ]
}